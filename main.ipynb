{
 "cells": [
  {
   "cell_type": "code",
   "execution_count": 1,
   "outputs": [],
   "source": [
    "from src import download_kaggle, DataPreprocessor, MLModel, EvaluateModel"
   ],
   "metadata": {
    "collapsed": false,
    "pycharm": {
     "name": "#%%\n"
    }
   }
  },
  {
   "cell_type": "code",
   "execution_count": 2,
   "outputs": [
    {
     "name": "stdout",
     "output_type": "stream",
     "text": [
      "2022-04-26 22:18:46,232 (WARNING): Running DVC command: 'dvc run -n download_kaggle ...'\n",
      "NodeConfig(params={'dataset': 'datamunge/sign-language-mnist'}, outs=WindowsPath('dataset'), outs_no_cache=None, outs_persist=None, outs_persist_no_cache=None, metrics=None, metrics_no_cache=None, deps=None, plots=None, plots_no_cache=None)\n"
     ]
    }
   ],
   "source": [
    "cfg = download_kaggle()\n",
    "print(cfg)"
   ],
   "metadata": {
    "collapsed": false,
    "pycharm": {
     "name": "#%%\n"
    }
   }
  },
  {
   "cell_type": "code",
   "execution_count": 3,
   "outputs": [
    {
     "name": "stdout",
     "output_type": "stream",
     "text": [
      "2022-04-26 22:18:47,454 (WARNING): Running DVC command: 'dvc run -n DataPreprocessor ...'\n"
     ]
    }
   ],
   "source": [
    "train_data = DataPreprocessor(data=cfg.outs, dataset=\"sign_mnist_train\")\n",
    "train_data.write_graph()"
   ],
   "metadata": {
    "collapsed": false,
    "pycharm": {
     "name": "#%%\n"
    }
   }
  },
  {
   "cell_type": "code",
   "execution_count": 4,
   "outputs": [
    {
     "name": "stdout",
     "output_type": "stream",
     "text": [
      "2022-04-26 22:18:48,725 (WARNING): Running DVC command: 'dvc run -n MLModel ...'\n"
     ]
    }
   ],
   "source": [
    "ml_model = MLModel(train_data=train_data, epochs=10, filters=[4], dense=[4])\n",
    "ml_model.write_graph()"
   ],
   "metadata": {
    "collapsed": false,
    "pycharm": {
     "name": "#%%\n"
    }
   }
  },
  {
   "cell_type": "code",
   "execution_count": 5,
   "outputs": [
    {
     "name": "stdout",
     "output_type": "stream",
     "text": [
      "2022-04-26 22:18:49,955 (WARNING): Running DVC command: 'dvc run -n test_data ...'\n"
     ]
    }
   ],
   "source": [
    "test_data = DataPreprocessor(data=cfg.outs, dataset=\"sign_mnist_test\", name=\"test_data\")\n",
    "test_data.write_graph()"
   ],
   "metadata": {
    "collapsed": false,
    "pycharm": {
     "name": "#%%\n"
    }
   }
  },
  {
   "cell_type": "code",
   "execution_count": 6,
   "outputs": [
    {
     "name": "stdout",
     "output_type": "stream",
     "text": [
      "2022-04-26 22:18:51,167 (WARNING): Running DVC command: 'dvc run -n EvaluateModel ...'\n",
      "2022-04-26 22:18:52,332 (WARNING): Running DVC command: 'dvc plots modify nodes/EvaluateModel/confusion_matrix.csv ...'\n"
     ]
    }
   ],
   "source": [
    "EvaluateModel(ml_model=ml_model @ \"model\", test_data=test_data).write_graph()"
   ],
   "metadata": {
    "collapsed": false,
    "pycharm": {
     "name": "#%%\n"
    }
   }
  },
  {
   "cell_type": "code",
   "execution_count": 7,
   "outputs": [
    {
     "name": "stdout",
     "output_type": "stream",
     "text": [
      "               +-----------------+              \n",
      "               | download_kaggle |              \n",
      "               +-----------------+              \n",
      "                ***            ***              \n",
      "              **                  ***           \n",
      "            **                       **         \n",
      "+------------------+                   **       \n",
      "| DataPreprocessor |                    *       \n",
      "+------------------+                    *       \n",
      "          *                             *       \n",
      "          *                             *       \n",
      "          *                             *       \n",
      "    +---------+                  +-----------+  \n",
      "    | MLModel |                  | test_data |  \n",
      "    +---------+*                 +-----------+  \n",
      "                ***            ***              \n",
      "                   **        **                 \n",
      "                     **    **                   \n",
      "                +---------------+               \n",
      "                | EvaluateModel |               \n",
      "                +---------------+               \n"
     ]
    }
   ],
   "source": [
    "!dvc dag"
   ],
   "metadata": {
    "collapsed": false,
    "pycharm": {
     "name": "#%%\n"
    }
   }
  },
  {
   "cell_type": "markdown",
   "source": [
    "# Post Processing\n",
    "The following is done after calling `dvc repro`"
   ],
   "metadata": {
    "collapsed": false,
    "pycharm": {
     "name": "#%% md\n"
    }
   }
  },
  {
   "cell_type": "code",
   "execution_count": 8,
   "outputs": [],
   "source": [
    "ev = EvaluateModel.load()"
   ],
   "metadata": {
    "collapsed": false,
    "pycharm": {
     "name": "#%%\n"
    }
   }
  },
  {
   "cell_type": "code",
   "execution_count": 9,
   "outputs": [
    {
     "data": {
      "text/plain": "<Figure size 432x288 with 2 Axes>",
      "image/png": "[encoded data removed]"
     },
     "metadata": {
      "needs_background": "light"
     },
     "output_type": "display_data"
    }
   ],
   "source": [
    "ev.plot_confusion_matrix()"
   ],
   "metadata": {
    "collapsed": false,
    "pycharm": {
     "name": "#%%\n"
    }
   }
  },
  {
   "cell_type": "code",
   "execution_count": 10,
   "outputs": [
    {
     "data": {
      "text/plain": "(7172, 28, 28, 1)"
     },
     "execution_count": 10,
     "metadata": {},
     "output_type": "execute_result"
    }
   ],
   "source": [
    "DataPreprocessor[\"test_data\"].features.shape"
   ],
   "metadata": {
    "collapsed": false,
    "pycharm": {
     "name": "#%%\n"
    }
   }
  },
  {
   "cell_type": "code",
   "execution_count": 11,
   "outputs": [
    {
     "data": {
      "text/plain": "(27455, 28, 28, 1)"
     },
     "execution_count": 11,
     "metadata": {},
     "output_type": "execute_result"
    }
   ],
   "source": [
    "DataPreprocessor.load().features.shape"
   ],
   "metadata": {
    "collapsed": false,
    "pycharm": {
     "name": "#%%\n"
    }
   }
  }
 ],
 "metadata": {
  "kernelspec": {
   "display_name": "Python 3",
   "language": "python",
   "name": "python3"
  },
  "language_info": {
   "codemirror_mode": {
    "name": "ipython",
    "version": 2
   },
   "file_extension": ".py",
   "mimetype": "text/x-python",
   "name": "python",
   "nbconvert_exporter": "python",
   "pygments_lexer": "ipython2",
   "version": "2.7.6"
  }
 },
 "nbformat": 4,
 "nbformat_minor": 0
}